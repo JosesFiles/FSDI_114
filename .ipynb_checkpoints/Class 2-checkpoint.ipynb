{
 "cells": [
  {
   "cell_type": "code",
   "execution_count": 5,
   "id": "aa3760f6",
   "metadata": {},
   "outputs": [],
   "source": [
    "def are_anagrams(string_a, string_b):\n",
    "    string_a = string_a.replace(\" \", \"\")\n",
    "    string_b = string_a.replace(\" \", \"\")\n",
    "    string_a = string_a.lower()\n",
    "    string_b = string_b.lower()\n",
    "    if len(string_a) != len(string_b):\n",
    "        return False\n",
    "    times_a = dict()\n",
    "    times_b = dict()\n",
    "    for i in range(len(string_a)):\n",
    "        if string_a[i] not in times_a.keys():\n",
    "            times_a[string_a[i]] = 1\n",
    "        else:\n",
    "            times_a[string_a[i]] += 1\n",
    "        if string_b[i] not in times_b.keys():\n",
    "            times_b[string_b[i]] = 1\n",
    "        else:\n",
    "            times_b[string_b[i]] += 1\n",
    "    return times_a == times_b\n"
   ]
  },
  {
   "cell_type": "code",
   "execution_count": 8,
   "id": "826b5a3f",
   "metadata": {},
   "outputs": [],
   "source": [
    "# Fast implementation\n",
    "\n",
    "class Stack:\n",
    "    def __init__(self):\n",
    "        self.items = []\n",
    "    \n",
    "    def push(self, item):\n",
    "        self.items.append(item)\n",
    "        \n",
    "    def pop(self):\n",
    "        return self.items.pop()\n",
    "    \n",
    "    # helper methods:\n",
    "    \n",
    "    def size(self):\n",
    "        return len(self.items)\n",
    "    \n",
    "    def peek(self):\n",
    "        return self.item[len(self.items)-1]\n",
    "    \n",
    "    def is_empty(self):\n",
    "        return self.items == []"
   ]
  },
  {
   "cell_type": "markdown",
   "id": "d7d5c82d",
   "metadata": {},
   "source": [
    "# Promblem 2 \n",
    "### Use a stack to invert a string.\n",
    "Given a string such as \"Rafael\" create a function that inverts it, for example, it should return\"leafaR\".\n",
    "\n",
    "```\n",
    "examples:\n",
    "cars and srac\n",
    "hello and olleh"
   ]
  },
  {
   "cell_type": "code",
   "execution_count": 11,
   "id": "8aba1259",
   "metadata": {},
   "outputs": [
    {
     "data": {
      "text/plain": [
       "'srac'"
      ]
     },
     "execution_count": 11,
     "metadata": {},
     "output_type": "execute_result"
    }
   ],
   "source": [
    "\n",
    "def invert_str(mystring):\n",
    "    stack = Stack()\n",
    "    for letter in mystring:\n",
    "        stack.push(letter)\n",
    "    out = \"\"\n",
    "    while stack.is_empty() !=True:\n",
    "        out += stack.pop()\n",
    "    return out \n",
    "    \n",
    "invert_str(\"cars\")"
   ]
  },
  {
   "cell_type": "code",
   "execution_count": null,
   "id": "1b859f8f",
   "metadata": {},
   "outputs": [],
   "source": []
  }
 ],
 "metadata": {
  "kernelspec": {
   "display_name": "Python 3 (ipykernel)",
   "language": "python",
   "name": "python3"
  },
  "language_info": {
   "codemirror_mode": {
    "name": "ipython",
    "version": 3
   },
   "file_extension": ".py",
   "mimetype": "text/x-python",
   "name": "python",
   "nbconvert_exporter": "python",
   "pygments_lexer": "ipython3",
   "version": "3.10.6"
  }
 },
 "nbformat": 4,
 "nbformat_minor": 5
}
